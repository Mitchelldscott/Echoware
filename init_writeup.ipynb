{
 "cells": [
  {
   "cell_type": "markdown",
   "id": "2b4966da",
   "metadata": {},
   "source": [
    "# EchoWare\n",
    "\n",
    "Retarget an expert pose to an agent pose\n",
    "\n",
    "The expert and agent poses consist of a configuration space, set of links and a set of joint transforms.\n",
    "$\n",
    "    \\{\\mathbb{C}_e,\\mathbb{L}_e,\\mathbb{J}_e\\} \\rightarrow \\{\\mathbb{C}_a,\\mathbb{L}_a,\\mathbb{J}_a\\}\n",
    "$\n",
    "\n",
    "Where\n",
    "\n",
    "$ \\mathbb{C} $: Configuration, DOF x 1 vector \n",
    "\n",
    "$ \\mathbb{L} $: Link set, {(Polygon3D, &Joint, ...), ...} \n",
    "\n",
    "$ \\mathbb{J} $: Joint set, {(Transform3D, state, axis, effect, &Link), ...}\n",
    "\n",
    "\n",
    "> **Configuration** of any robot can and should be implemented as a list of actuator states. This vector is the input to forward kinematics and the output of inverse kinematics.  \n",
    "\n",
    "> **Links** provide a geometric definition for the parts of a robot. A link consists of a polygon (convex hull of 3D points) and a possibly empty set of joint references.\n",
    "\n",
    "> **Joints** describe a state, axis and motion of the joint on the effected link. Most joints will be continuous revolute about their Z axis (standard way to define motor reference frames). Each joint refers to a single link, creating chains: link -> joint -> link -> joint -> link.\n",
    "\n",
    "For this project we will assume a set of rules the expert and agent must follow:\n",
    "- A Link can have any number of Joints\n",
    "- No set of links/joints forms a cycle\n",
    "- All chains end in Link (Any joint has a base link and an effected link)\n",
    "\n",
    "![sample robot arm](two_link_basic.png)\n",
    "> 2 DOF, 3 link robot arm\n",
    "\n",
    "The above robot has the configuration space $$ \\begin{bmatrix}\\theta_1 \\\\ \\theta_2 \\end{bmatrix} $$\n",
    "\n",
    "The linkages can be defined as line segments connecting the two joints and end effector: $$ \\{ Link_0: ((P_0, P_1), Joint_1), Link_1: ((P_1, P_2), Joint_2),  Link_2: ((P_2, P_3), NULL)\\} $$\n",
    "\n",
    "The Joints are offset from the links by the line segment that defines the links. This allows a very simple Transform that translates by the vector difference of the end points. $$ \\{Joint_1: (Translation(P_1-P_0), \\theta_1, [0,0,1], revolute, Link_1), Joint_2: (Translation(P_2-P_1), \\theta_2, [0,0,1], revolute, Link_2)\\} $$\n",
    "\n",
    "\n",
    "In order to solve the forward kinematics for the end effector, start with a vector from $Link_n$ to the end effector ($P_3-P_2$ in this case). Apply the effect of $Joint_n$ to this vector (rotation about Z) and add the transform to $Link_{n-1}$ ($P_2-P_1$), this is the end effector defined relative to $Link_{n-1}$. Repeat this process untill the end effector is defined about $Link_0$.\n",
    "\n",
    "To retarget this pose we should consider what the goal of retargeting is. A success full retarting will allow the agent to reproduce results of an experts actions. Due to the complexity of manipulating the environment this project simplifies the goal to imitating an expert's pose. Future work should lead to an agent matching the effects of an expert on the environment. This would require an understanding of the dynamics and forces the expert and agent are capable of as well as an ability to detect environmental changes. Adding physical constraints and short term memory to this algorithm could allow the agent to diverge from the expert just enough to make the retargeted poses feasible.\n",
    "\n",
    "\n",
    "### Joint/Link Matching\n",
    "*Joints with the same depth/transform will match* \\\n",
    "Beginning from the expert's base link examine the 0 depth joints (connected to the base). Matching Joints are: the same depth, close in proximity (euclidean distance, orientation threashold, effect) relative to their parent link and have a similar effected link (inertia/vertices/faces?). An agent's joint can match with multiple joints on an expert (but not vise verse) resulting in a weighted average. Continue matching joints at each depth.\n",
    "\n",
    "> if the expert chain has a different number of links, the agent will partially mimic that chain\n",
    "\n",
    "### End Effector/Chain matching\n",
    "*Chains will match end effector positions* \\\n",
    "Begin with the expert's base link and match any joints (ignoring links). Then select from the following for each joint:\n",
    "1. Use IK of agent to create similar ee position (likely doesn't use the same shape)\n",
    "2. Use optimization to minimize the error in keypoints on the chain\n",
    "3. Use the closing circle (sphere) algorithm (put all joint positions and desired ee on a circle and shrink the circle until they meet)\n",
    "\n",
    "> Both require normalizing each chain definition so numerically chains have the same reach"
   ]
  },
  {
   "cell_type": "code",
   "execution_count": 1,
   "id": "f61a9166",
   "metadata": {},
   "outputs": [],
   "source": [
    "# This allows file changes to be included without reloading the kernel\n",
    "# Still requires reimporting the modules\n",
    "\n",
    "%load_ext autoreload \n",
    "%autoreload 2   "
   ]
  },
  {
   "cell_type": "code",
   "execution_count": 34,
   "id": "5cf664e3",
   "metadata": {},
   "outputs": [],
   "source": [
    "import numpy as np\n",
    "from pose import Transform3D"
   ]
  },
  {
   "cell_type": "code",
   "execution_count": 32,
   "id": "b2ab1eae",
   "metadata": {},
   "outputs": [],
   "source": [
    "tf = Transform3D(1,0,0,1.57,-3.1415,1.57)"
   ]
  },
  {
   "cell_type": "code",
   "execution_count": 33,
   "id": "4c63e8fa-f351-4a95-98c1-7d068eb5fb72",
   "metadata": {},
   "outputs": [
    {
     "data": {
      "text/plain": [
       "array([2.66453526e-15, 3.41810697e-12, 7.37825283e-08])"
      ]
     },
     "execution_count": 33,
     "metadata": {},
     "output_type": "execute_result"
    }
   ],
   "source": [
    "v = np.array([1 ,0 ,0])\n",
    "tf.transform(v)"
   ]
  },
  {
   "cell_type": "code",
   "execution_count": null,
   "id": "cc249f1a-ca7b-452f-bcda-083dd72615cb",
   "metadata": {},
   "outputs": [],
   "source": []
  }
 ],
 "metadata": {
  "kernelspec": {
   "display_name": "Python 3 (ipykernel)",
   "language": "python",
   "name": "python3"
  },
  "language_info": {
   "codemirror_mode": {
    "name": "ipython",
    "version": 3
   },
   "file_extension": ".py",
   "mimetype": "text/x-python",
   "name": "python",
   "nbconvert_exporter": "python",
   "pygments_lexer": "ipython3",
   "version": "3.8.10"
  }
 },
 "nbformat": 4,
 "nbformat_minor": 5
}
